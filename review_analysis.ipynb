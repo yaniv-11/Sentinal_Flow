{
 "cells": [
  {
   "cell_type": "code",
   "execution_count": 1,
   "id": "c1e54a3f",
   "metadata": {},
   "outputs": [],
   "source": [
    "\n",
    "from langgraph.graph import StateGraph, START, END\n",
    "from dotenv import load_dotenv\n",
    "from google import genai\n",
    "from typing import TypedDict, Literal\n",
    "from pydantic import BaseModel, Field\n",
    "import operator"
   ]
  },
  {
   "cell_type": "code",
   "execution_count": 2,
   "id": "d1b4b6cd",
   "metadata": {},
   "outputs": [
    {
     "data": {
      "text/plain": [
       "True"
      ]
     },
     "execution_count": 2,
     "metadata": {},
     "output_type": "execute_result"
    }
   ],
   "source": [
    "\n",
    "load_dotenv()"
   ]
  },
  {
   "cell_type": "code",
   "execution_count": 3,
   "id": "ddff289e",
   "metadata": {},
   "outputs": [],
   "source": [
    "review=\"very worst product\""
   ]
  },
  {
   "cell_type": "code",
   "execution_count": 4,
   "id": "f8f21471",
   "metadata": {},
   "outputs": [],
   "source": [
    "prompt=f\"give the sentiment of the sentence only in string 'positive' or 'negative'based on this review: {review}\""
   ]
  },
  {
   "cell_type": "code",
   "execution_count": 5,
   "id": "00f9a377",
   "metadata": {},
   "outputs": [],
   "source": [
    "client = genai.Client()\n",
    "response = client.models.generate_content(\n",
    "model=\"gemini-2.5-flash\",contents=prompt\n",
    ")\n",
    "sentiment=response.text"
   ]
  },
  {
   "cell_type": "code",
   "execution_count": 6,
   "id": "d87738b0",
   "metadata": {},
   "outputs": [
    {
     "name": "stdout",
     "output_type": "stream",
     "text": [
      "negative\n"
     ]
    }
   ],
   "source": [
    "print(sentiment)"
   ]
  },
  {
   "cell_type": "code",
   "execution_count": 22,
   "id": "cb553bf1",
   "metadata": {},
   "outputs": [
    {
     "name": "stdout",
     "output_type": "stream",
     "text": [
      "very worst product\n"
     ]
    }
   ],
   "source": [
    "print(initial_state[review])"
   ]
  },
  {
   "cell_type": "code",
   "execution_count": 53,
   "id": "3613cdce",
   "metadata": {},
   "outputs": [],
   "source": [
    "class Review(TypedDict):\n",
    "    review: str\n",
    "    sentiment: Literal[\"positive\", \"negative\"]\n",
    "    diagnosis:dict\n",
    "    response:str"
   ]
  },
  {
   "cell_type": "code",
   "execution_count": 63,
   "id": "1836cd75",
   "metadata": {},
   "outputs": [],
   "source": [
    "def find_sentiment(state: Review) -> dict:\n",
    "    client = genai.Client()  # Uses API key from .env automatically\n",
    "    prompt = f\"give the sentiment of the sentence only in string 'positive' or 'negative' based on this review: {state['review']}\"\n",
    "    response = client.models.generate_content(\n",
    "        model=\"gemini-2.5-flash\",\n",
    "        contents=prompt\n",
    "    )\n",
    "    state['sentiment'] = response.text.strip().lower()\n",
    "    return state\n",
    "\n",
    "def check_sentiment(state: Review) -> Literal[\"positive_response\", \"run_diagnosis\"]:\n",
    "    if state['sentiment'] == 'positive':\n",
    "        return 'positive_response'\n",
    "    else:\n",
    "        return 'run_diagnosis'\n",
    "\n",
    "def positive_response(state: Review) -> dict:\n",
    "    client = genai.Client()\n",
    "    prompt = f\"\"\"Write a warm thank-you message in response to this review:\n",
    "\\\"{state['review']}\\\"\n",
    "Also, kindly ask the user to leave feedback on our website.\"\"\"\n",
    "    response = client.models.generate_content(\n",
    "        model=\"gemini-2.5-flash\",\n",
    "        contents=prompt\n",
    "    )\n",
    "    state['response'] = response.text\n",
    "    return state\n",
    "\n",
    "def run_diagnosis(state: Review) -> dict:\n",
    "    client = genai.Client()\n",
    "    prompt = f\"\"\"Diagnose this negative review:\n",
    "{state['review']}\n",
    "Return issue_type, tone, and urgency as JSON format.\"\"\"\n",
    "    response = client.models.generate_content(\n",
    "        model=\"gemini-2.5-flash\",\n",
    "        contents=prompt\n",
    "    )\n",
    "    state['diagnosis'] = response.text\n",
    "    return state\n",
    "\n",
    "def negative_response(state: Review) -> dict:\n",
    "    client = genai.Client()\n",
    "    diagnosis = state['diagnosis']\n",
    "    prompt = f\"\"\"You are a support assistant.\n",
    "The user had the following diagnosis: {diagnosis}.\n",
    "Write an empathetic, helpful resolution message.\"\"\"\n",
    "    response = client.models.generate_content(\n",
    "        model=\"gemini-2.5-flash\",\n",
    "        contents=prompt\n",
    "    )\n",
    "    state['response'] = response.text\n",
    "    return state\n"
   ]
  },
  {
   "cell_type": "code",
   "execution_count": null,
   "id": "79682025",
   "metadata": {},
   "outputs": [
    {
     "name": "stdout",
     "output_type": "stream",
     "text": [
      "{'review': 'I’ve been trying to log in for over an hour now, and the app keeps freezing on the authentication screen. I even tried reinstalling it, but no luck. This kind of bug is unacceptable, especially when it affects basic functionality.', 'sentiment': 'negative', 'diagnosis': '```json\\n{\\n  \"issue_type\": \"Technical Bug\",\\n  \"tone\": \"Frustrated\",\\n  \"urgency\": \"Critical\"\\n}\\n```', 'response': \"Subject: Good News: Your Critical Technical Bug Has Been Resolved!\\n\\nHi [User Name],\\n\\nI completely understand your frustration and the critical impact this technical bug has had – I'm truly sorry for the trouble and disruption it caused. Thank you for your patience and for bringing this urgent issue to our attention.\\n\\nI'm happy to let you know that our team has successfully identified and resolved the problem! The fix has now been deployed to our systems.\\n\\n**What to do next:**\\n\\n*   Please try [**specific action, e.g., refreshing your browser/application, logging out and back in, re-attempting the process that was failing**].\\n*   You should now be able to [**specific functionality that was previously broken, e.g., access your data, complete the transaction, use feature X without issues**].\\n\\nCould you please confirm on your end that everything is working as expected now?\\n\\nWe've also identified that the issue stemmed from [**brief, high-level explanation if possible without being overly technical, e.g., a recent server configuration change, an unexpected data synchronization error**]. Our engineers are implementing additional monitoring and preventative measures to ensure this doesn't happen again.\\n\\nPlease don't hesitate to reach out immediately if you experience any further difficulties or have any other questions. We're here to ensure everything runs smoothly for you.\\n\\nBest regards,\\n\\n[Your Name]\\nSupport Assistant\"}\n"
     ]
    }
   ],
   "source": [
    "initial_state = {\n",
    "    \"review\":  \"I’ve been trying to log in for over an hour now, and the app keeps freezing on the authentication screen. I even tried reinstalling it, but no luck. This kind of bug is unacceptable, especially when it affects basic functionality.\"\n",
    "}\n",
    "\n",
    "graph = StateGraph(Review)\n",
    "graph.add_node(\"find_sentiment\", find_sentiment)\n",
    "graph.add_node('positive_response', positive_response)\n",
    "graph.add_node('run_diagnosis', run_diagnosis)\n",
    "graph.add_node('negative_response', negative_response)\n",
    "\n",
    "graph.add_edge(START, 'find_sentiment')\n",
    "\n",
    "graph.add_conditional_edges('find_sentiment', check_sentiment)\n",
    "\n",
    "graph.add_edge('positive_response', END)\n",
    "\n",
    "graph.add_edge('run_diagnosis', 'negative_response')\n",
    "graph.add_edge('negative_response', END)\n",
    "\n",
    "workflow = graph.compile()\n",
    "result = workflow.invoke(initial_state)\n",
    "\n",
    "print(result.split('\\n')[0])  # Print only the first line of the response\n"
   ]
  },
  {
   "cell_type": "code",
   "execution_count": 72,
   "id": "aecff09d",
   "metadata": {},
   "outputs": [
    {
     "data": {
      "image/png": "[encoded data removed]",
      "text/plain": [
       "<langgraph.graph.state.CompiledStateGraph object at 0x0000022470188790>"
      ]
     },
     "execution_count": 72,
     "metadata": {},
     "output_type": "execute_result"
    }
   ],
   "source": [
    "workflow"
   ]
  },
  {
   "cell_type": "code",
   "execution_count": null,
   "id": "3a6154d6",
   "metadata": {},
   "outputs": [
    {
     "name": "stdout",
     "output_type": "stream",
     "text": [
      "{'review': 'I’ve been trying to log in for over an hour now, and the app keeps freezing on the authentication screen. I even tried reinstalling it, but no luck. This kind of bug is unacceptable, especially when it affects basic functionality.', 'sentiment': 'negative', 'diagnosis': '```json\\n{\\n  \"issue_type\": \"Technical Bug\",\\n  \"tone\": \"Frustrated\",\\n  \"urgency\": \"Critical\"\\n}\\n```', 'response': \"Subject: Good News: Your Critical Technical Bug Has Been Resolved!\\n\\nHi [User Name],\\n\\nI completely understand your frustration and the critical impact this technical bug has had – I'm truly sorry for the trouble and disruption it caused. Thank you for your patience and for bringing this urgent issue to our attention.\\n\\nI'm happy to let you know that our team has successfully identified and resolved the problem! The fix has now been deployed to our systems.\\n\\n**What to do next:**\\n\\n*   Please try [**specific action, e.g., refreshing your browser/application, logging out and back in, re-attempting the process that was failing**].\\n*   You should now be able to [**specific functionality that was previously broken, e.g., access your data, complete the transaction, use feature X without issues**].\\n\\nCould you please confirm on your end that everything is working as expected now?\\n\\nWe've also identified that the issue stemmed from [**brief, high-level explanation if possible without being overly technical, e.g., a recent server configuration change, an unexpected data synchronization error**]. Our engineers are implementing additional monitoring and preventative measures to ensure this doesn't happen again.\\n\\nPlease don't hesitate to reach out immediately if you experience any further difficulties or have any other questions. We're here to ensure everything runs smoothly for you.\\n\\nBest regards,\\n\\n[Your Name]\\nSupport Assistant\"}\n"
     ]
    }
   ],
   "source": [
    "print(result)"
   ]
  },
  {
   "cell_type": "code",
   "execution_count": 67,
   "id": "6586ec87",
   "metadata": {},
   "outputs": [
    {
     "name": "stdout",
     "output_type": "stream",
     "text": [
      "review: I’ve been trying to log in for over an hour now, and the app keeps freezing on the authentication screen. I even tried reinstalling it, but no luck. This kind of bug is unacceptable, especially when it affects basic functionality.\n",
      "\n",
      "sentiment: negative\n",
      "\n",
      "diagnosis: ```json\n",
      "{\n",
      "  \"issue_type\": \"Technical Bug\",\n",
      "  \"tone\": \"Frustrated\",\n",
      "  \"urgency\": \"Critical\"\n",
      "}\n",
      "```\n",
      "\n",
      "response: Subject: Good News: Your Critical Technical Bug Has Been Resolved!\n",
      "\n",
      "Hi [User Name],\n",
      "\n",
      "I completely understand your frustration and the critical impact this technical bug has had – I'm truly sorry for the trouble and disruption it caused. Thank you for your patience and for bringing this urgent issue to our attention.\n",
      "\n",
      "I'm happy to let you know that our team has successfully identified and resolved the problem! The fix has now been deployed to our systems.\n",
      "\n",
      "**What to do next:**\n",
      "\n",
      "*   Please try [**specific action, e.g., refreshing your browser/application, logging out and back in, re-attempting the process that was failing**].\n",
      "*   You should now be able to [**specific functionality that was previously broken, e.g., access your data, complete the transaction, use feature X without issues**].\n",
      "\n",
      "Could you please confirm on your end that everything is working as expected now?\n",
      "\n",
      "We've also identified that the issue stemmed from [**brief, high-level explanation if possible without being overly technical, e.g., a recent server configuration change, an unexpected data synchronization error**]. Our engineers are implementing additional monitoring and preventative measures to ensure this doesn't happen again.\n",
      "\n",
      "Please don't hesitate to reach out immediately if you experience any further difficulties or have any other questions. We're here to ensure everything runs smoothly for you.\n",
      "\n",
      "Best regards,\n",
      "\n",
      "[Your Name]\n",
      "Support Assistant\n",
      "\n"
     ]
    }
   ],
   "source": [
    "for key, value in result.items():\n",
    "    print(f\"{key}: {value}\\n\")"
   ]
  },
  {
   "cell_type": "code",
   "execution_count": 71,
   "id": "cd2353c6",
   "metadata": {},
   "outputs": [
    {
     "name": "stdout",
     "output_type": "stream",
     "text": [
      "review\n",
      "sentiment\n",
      "diagnosis\n",
      "response\n"
     ]
    }
   ],
   "source": [
    "for i in result:\n",
    "    print(i)"
   ]
  },
  {
   "cell_type": "code",
   "execution_count": null,
   "id": "ffec98c1",
   "metadata": {},
   "outputs": [],
   "source": []
  }
 ],
 "metadata": {
  "kernelspec": {
   "display_name": "Python 3",
   "language": "python",
   "name": "python3"
  },
  "language_info": {
   "codemirror_mode": {
    "name": "ipython",
    "version": 3
   },
   "file_extension": ".py",
   "mimetype": "text/x-python",
   "name": "python",
   "nbconvert_exporter": "python",
   "pygments_lexer": "ipython3",
   "version": "3.9.12"
  }
 },
 "nbformat": 4,
 "nbformat_minor": 5
}
